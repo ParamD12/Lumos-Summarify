{
 "cells": [
  {
   "cell_type": "code",
   "execution_count": 1,
   "id": "66524651",
   "metadata": {},
   "outputs": [
    {
     "name": "stderr",
     "output_type": "stream",
     "text": [
      "C:\\Users\\pdhin\\anaconda3\\lib\\site-packages\\gensim\\utils.py:1212: UserWarning: detected Windows; aliasing chunkize to chunkize_serial\n",
      "  warnings.warn(\"detected Windows; aliasing chunkize to chunkize_serial\")\n"
     ]
    }
   ],
   "source": [
    "import tkinter as tk\n",
    "from tkinter import messagebox\n",
    "from gensim.summarization.summarizer import summarize\n",
    "import requests\n",
    "from bs4 import BeautifulSoup\n",
    "from urllib.request import urlopen\n",
    "\n",
    "def get_text(url):\n",
    "    page = urlopen(url)\n",
    "    soup = BeautifulSoup(page, \"lxml\")\n",
    "    text = ' '.join(map(lambda p: p.text, soup.find_all('p')))\n",
    "    return soup.title.text, text\n",
    "\n",
    "def summarize_text():\n",
    "    url = entry_url.get()\n",
    "    word_count = int(entry_word_count.get())\n",
    "    text = get_text(url)\n",
    "    number_of_words2 = len(str(text).split())\n",
    "    summary = summarize(str(text), word_count=word_count)\n",
    "    lines = summary.split()\n",
    "    number_of_words = len(lines)\n",
    "    soup = BeautifulSoup(urlopen(url))\n",
    "    title = soup.title.get_text()\n",
    "    result = f\"Summary:\\n\\n{title}\\n{summary}\\n\\nMetrics - \\n\\nOriginal text character length - {len(str(text))}\\nSummarized text character length - {len(summary)}\\nOriginal text word count - {number_of_words2}\\nSummarized text word count - {number_of_words}\"\n",
    "    messagebox.showinfo(\"Summary\", result)\n",
    "\n",
    "root = tk.Tk()\n",
    "root.title(\"Text Summarizer\")\n",
    "\n",
    "frame = tk.Frame(root)\n",
    "frame.pack()\n",
    "\n",
    "label_url = tk.Label(frame, text=\"Enter URL:\")\n",
    "label_url.grid(row=0, column=0, padx=10, pady=10)\n",
    "\n",
    "entry_url = tk.Entry(frame)\n",
    "entry_url.grid(row=0, column=1, padx=10, pady=10)\n",
    "\n",
    "label_word_count = tk.Label(frame, text=\"Enter word count of summary:\")\n",
    "label_word_count.grid(row=1, column=0, padx=10, pady=10)\n",
    "\n",
    "entry_word_count = tk.Entry(frame)\n",
    "entry_word_count.grid(row=1, column=1, padx=10, pady=10)\n",
    "\n",
    "button = tk.Button(frame, text=\"Summarize\", command=summarize_text)\n",
    "button.grid(row=2, column=1, pady=10)\n",
    "\n",
    "root.mainloop()\n"
   ]
  }
 ],
 "metadata": {
  "kernelspec": {
   "display_name": "Python 3 (ipykernel)",
   "language": "python",
   "name": "python3"
  },
  "language_info": {
   "codemirror_mode": {
    "name": "ipython",
    "version": 3
   },
   "file_extension": ".py",
   "mimetype": "text/x-python",
   "name": "python",
   "nbconvert_exporter": "python",
   "pygments_lexer": "ipython3",
   "version": "3.9.13"
  }
 },
 "nbformat": 4,
 "nbformat_minor": 5
}
